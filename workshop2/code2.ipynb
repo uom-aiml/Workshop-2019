{
  "nbformat": 4,
  "nbformat_minor": 0,
  "metadata": {
    "colab": {
      "name": "code2.ipynb",
      "provenance": [],
      "collapsed_sections": [],
      "toc_visible": true
    },
    "kernelspec": {
      "name": "python3",
      "display_name": "Python 3"
    }
  },
  "cells": [
    {
      "cell_type": "markdown",
      "metadata": {
        "id": "TR14ubhbuQaJ",
        "colab_type": "text"
      },
      "source": [
        "#Workshop 2 - Data Preprocessing\n",
        "\n",
        "###The goal of this tutorial is to demonstrate how important it is to process your data and to get an introductio into common techniques to improve model performance.\n"
      ]
    },
    {
      "cell_type": "code",
      "metadata": {
        "id": "6-uC5Ss2ueV0",
        "colab_type": "code",
        "colab": {}
      },
      "source": [
        "#The following notebook is a modified version version of the talk given by April Chen \n",
        "#in 2016 titled Depy 2016 Talk: Pre-Modeling: Data Preprocessing and Feature Exploration in Python. \n",
        "#original repo: https://github.com/aprilypchen/depy2016\n",
        "\n",
        "#curated by Antoine Khuory and Botond Maros"
      ],
      "execution_count": 0,
      "outputs": []
    },
    {
      "cell_type": "markdown",
      "metadata": {
        "id": "l6btdnyCuven",
        "colab_type": "text"
      },
      "source": [
        "##1) Import Libraries\n"
      ]
    },
    {
      "cell_type": "markdown",
      "metadata": {
        "id": "IXOEf7qKvhS1",
        "colab_type": "text"
      },
      "source": [
        "We are going to use a dataset called \"adult\" dataset, which contains information about various individuals including age, education, marital status, gender, and income."
      ]
    },
    {
      "cell_type": "code",
      "metadata": {
        "id": "HdcF6bVlmH3z",
        "colab_type": "code",
        "colab": {}
      },
      "source": [
        "import pandas as pd\n",
        "import numpy as np\n",
        "url = 'https://raw.githubusercontent.com/aprilypchen/depy2016/master/adult.csv'\n",
        "df = pd.read_csv(url, na_values=['#NAME?'])\n",
        "# na_values parameter gives NaN to the objects in the list. (we have #NAME? in the dataset)"
      ],
      "execution_count": 0,
      "outputs": []
    },
    {
      "cell_type": "markdown",
      "metadata": {
        "id": "v0fzuVVkz2PR",
        "colab_type": "text"
      },
      "source": [
        "##2) Inspect data "
      ]
    },
    {
      "cell_type": "code",
      "metadata": {
        "id": "ELEJ0Gw0rI7b",
        "colab_type": "code",
        "outputId": "50511b31-fcc1-4aaa-954d-7f86dfe85ca0",
        "colab": {
          "base_uri": "https://localhost:8080/",
          "height": 284
        }
      },
      "source": [
        "# Peek at the first 5 rows\n",
        "df.head(5)"
      ],
      "execution_count": 91,
      "outputs": [
        {
          "output_type": "execute_result",
          "data": {
            "text/html": [
              "<div>\n",
              "<style scoped>\n",
              "    .dataframe tbody tr th:only-of-type {\n",
              "        vertical-align: middle;\n",
              "    }\n",
              "\n",
              "    .dataframe tbody tr th {\n",
              "        vertical-align: top;\n",
              "    }\n",
              "\n",
              "    .dataframe thead th {\n",
              "        text-align: right;\n",
              "    }\n",
              "</style>\n",
              "<table border=\"1\" class=\"dataframe\">\n",
              "  <thead>\n",
              "    <tr style=\"text-align: right;\">\n",
              "      <th></th>\n",
              "      <th>age</th>\n",
              "      <th>workclass</th>\n",
              "      <th>fnlwgt</th>\n",
              "      <th>education</th>\n",
              "      <th>education_num</th>\n",
              "      <th>marital_status</th>\n",
              "      <th>occupation</th>\n",
              "      <th>relationship</th>\n",
              "      <th>race</th>\n",
              "      <th>sex</th>\n",
              "      <th>capital_gain</th>\n",
              "      <th>capital_loss</th>\n",
              "      <th>hours_per_week</th>\n",
              "      <th>native_country</th>\n",
              "      <th>income</th>\n",
              "    </tr>\n",
              "  </thead>\n",
              "  <tbody>\n",
              "    <tr>\n",
              "      <th>0</th>\n",
              "      <td>39.0</td>\n",
              "      <td>State-gov</td>\n",
              "      <td>77516.0</td>\n",
              "      <td>Bachelors</td>\n",
              "      <td>13.0</td>\n",
              "      <td>Never-married</td>\n",
              "      <td>Adm-clerical</td>\n",
              "      <td>Not-in-family</td>\n",
              "      <td>White</td>\n",
              "      <td>Male</td>\n",
              "      <td>2174</td>\n",
              "      <td>0</td>\n",
              "      <td>40</td>\n",
              "      <td>United-States</td>\n",
              "      <td>&lt;=50K</td>\n",
              "    </tr>\n",
              "    <tr>\n",
              "      <th>1</th>\n",
              "      <td>50.0</td>\n",
              "      <td>Self-emp-not-inc</td>\n",
              "      <td>83311.0</td>\n",
              "      <td>Bachelors</td>\n",
              "      <td>13.0</td>\n",
              "      <td>Married-civ-spouse</td>\n",
              "      <td>Exec-managerial</td>\n",
              "      <td>Husband</td>\n",
              "      <td>White</td>\n",
              "      <td>Male</td>\n",
              "      <td>0</td>\n",
              "      <td>0</td>\n",
              "      <td>13</td>\n",
              "      <td>United-States</td>\n",
              "      <td>&lt;=50K</td>\n",
              "    </tr>\n",
              "    <tr>\n",
              "      <th>2</th>\n",
              "      <td>38.0</td>\n",
              "      <td>Private</td>\n",
              "      <td>215646.0</td>\n",
              "      <td>HS-grad</td>\n",
              "      <td>9.0</td>\n",
              "      <td>Divorced</td>\n",
              "      <td>Handlers-cleaners</td>\n",
              "      <td>Not-in-family</td>\n",
              "      <td>White</td>\n",
              "      <td>Male</td>\n",
              "      <td>0</td>\n",
              "      <td>0</td>\n",
              "      <td>40</td>\n",
              "      <td>United-States</td>\n",
              "      <td>&lt;=50K</td>\n",
              "    </tr>\n",
              "    <tr>\n",
              "      <th>3</th>\n",
              "      <td>53.0</td>\n",
              "      <td>Private</td>\n",
              "      <td>234721.0</td>\n",
              "      <td>11th</td>\n",
              "      <td>7.0</td>\n",
              "      <td>Married-civ-spouse</td>\n",
              "      <td>Handlers-cleaners</td>\n",
              "      <td>Husband</td>\n",
              "      <td>Black</td>\n",
              "      <td>NaN</td>\n",
              "      <td>0</td>\n",
              "      <td>0</td>\n",
              "      <td>40</td>\n",
              "      <td>United-States</td>\n",
              "      <td>&lt;=50K</td>\n",
              "    </tr>\n",
              "    <tr>\n",
              "      <th>4</th>\n",
              "      <td>28.0</td>\n",
              "      <td>Private</td>\n",
              "      <td>338409.0</td>\n",
              "      <td>Bachelors</td>\n",
              "      <td>13.0</td>\n",
              "      <td>Married-civ-spouse</td>\n",
              "      <td>Prof-specialty</td>\n",
              "      <td>Wife</td>\n",
              "      <td>Black</td>\n",
              "      <td>Female</td>\n",
              "      <td>0</td>\n",
              "      <td>0</td>\n",
              "      <td>40</td>\n",
              "      <td>Cuba</td>\n",
              "      <td>&lt;=50K</td>\n",
              "    </tr>\n",
              "  </tbody>\n",
              "</table>\n",
              "</div>"
            ],
            "text/plain": [
              "    age         workclass    fnlwgt  ... hours_per_week  native_country income\n",
              "0  39.0         State-gov   77516.0  ...             40   United-States  <=50K\n",
              "1  50.0  Self-emp-not-inc   83311.0  ...             13   United-States  <=50K\n",
              "2  38.0           Private  215646.0  ...             40   United-States  <=50K\n",
              "3  53.0           Private  234721.0  ...             40   United-States  <=50K\n",
              "4  28.0           Private  338409.0  ...             40            Cuba  <=50K\n",
              "\n",
              "[5 rows x 15 columns]"
            ]
          },
          "metadata": {
            "tags": []
          },
          "execution_count": 91
        }
      ]
    },
    {
      "cell_type": "markdown",
      "metadata": {
        "id": "ah-C9MOHv-Km",
        "colab_type": "text"
      },
      "source": [
        "##3) Goal: Predict if someone's income is less or greater than 50k. (Binary classification)"
      ]
    },
    {
      "cell_type": "code",
      "metadata": {
        "id": "SZh_Y4G1rWPj",
        "colab_type": "code",
        "outputId": "abc8428d-e91b-4b16-d52c-2503c53d3fe5",
        "colab": {
          "base_uri": "https://localhost:8080/",
          "height": 66
        }
      },
      "source": [
        "# Let's visulaize dataset distribution, because unbalanced dataset's performance metrics can be misleading \n",
        "\n",
        "print(df['income'].value_counts())"
      ],
      "execution_count": 92,
      "outputs": [
        {
          "output_type": "stream",
          "text": [
            "<=50K    3779\n",
            ">50K     1221\n",
            "Name: income, dtype: int64\n"
          ],
          "name": "stdout"
        }
      ]
    },
    {
      "cell_type": "code",
      "metadata": {
        "id": "68qw9QmHrvAQ",
        "colab_type": "code",
        "colab": {}
      },
      "source": [
        "# Assign outcome as 0 if income <=50K and as 1 if income >50K\n",
        "df['income'] = [0 if x == '<=50K' else 1 for x in df['income']]"
      ],
      "execution_count": 0,
      "outputs": []
    },
    {
      "cell_type": "code",
      "metadata": {
        "id": "w1znSJ_tfO6j",
        "colab_type": "code",
        "outputId": "96a6ac9e-ee40-4758-e0d2-9e7b65eccc33",
        "colab": {
          "base_uri": "https://localhost:8080/",
          "height": 284
        }
      },
      "source": [
        "df.head(5)"
      ],
      "execution_count": 94,
      "outputs": [
        {
          "output_type": "execute_result",
          "data": {
            "text/html": [
              "<div>\n",
              "<style scoped>\n",
              "    .dataframe tbody tr th:only-of-type {\n",
              "        vertical-align: middle;\n",
              "    }\n",
              "\n",
              "    .dataframe tbody tr th {\n",
              "        vertical-align: top;\n",
              "    }\n",
              "\n",
              "    .dataframe thead th {\n",
              "        text-align: right;\n",
              "    }\n",
              "</style>\n",
              "<table border=\"1\" class=\"dataframe\">\n",
              "  <thead>\n",
              "    <tr style=\"text-align: right;\">\n",
              "      <th></th>\n",
              "      <th>age</th>\n",
              "      <th>workclass</th>\n",
              "      <th>fnlwgt</th>\n",
              "      <th>education</th>\n",
              "      <th>education_num</th>\n",
              "      <th>marital_status</th>\n",
              "      <th>occupation</th>\n",
              "      <th>relationship</th>\n",
              "      <th>race</th>\n",
              "      <th>sex</th>\n",
              "      <th>capital_gain</th>\n",
              "      <th>capital_loss</th>\n",
              "      <th>hours_per_week</th>\n",
              "      <th>native_country</th>\n",
              "      <th>income</th>\n",
              "    </tr>\n",
              "  </thead>\n",
              "  <tbody>\n",
              "    <tr>\n",
              "      <th>0</th>\n",
              "      <td>39.0</td>\n",
              "      <td>State-gov</td>\n",
              "      <td>77516.0</td>\n",
              "      <td>Bachelors</td>\n",
              "      <td>13.0</td>\n",
              "      <td>Never-married</td>\n",
              "      <td>Adm-clerical</td>\n",
              "      <td>Not-in-family</td>\n",
              "      <td>White</td>\n",
              "      <td>Male</td>\n",
              "      <td>2174</td>\n",
              "      <td>0</td>\n",
              "      <td>40</td>\n",
              "      <td>United-States</td>\n",
              "      <td>0</td>\n",
              "    </tr>\n",
              "    <tr>\n",
              "      <th>1</th>\n",
              "      <td>50.0</td>\n",
              "      <td>Self-emp-not-inc</td>\n",
              "      <td>83311.0</td>\n",
              "      <td>Bachelors</td>\n",
              "      <td>13.0</td>\n",
              "      <td>Married-civ-spouse</td>\n",
              "      <td>Exec-managerial</td>\n",
              "      <td>Husband</td>\n",
              "      <td>White</td>\n",
              "      <td>Male</td>\n",
              "      <td>0</td>\n",
              "      <td>0</td>\n",
              "      <td>13</td>\n",
              "      <td>United-States</td>\n",
              "      <td>0</td>\n",
              "    </tr>\n",
              "    <tr>\n",
              "      <th>2</th>\n",
              "      <td>38.0</td>\n",
              "      <td>Private</td>\n",
              "      <td>215646.0</td>\n",
              "      <td>HS-grad</td>\n",
              "      <td>9.0</td>\n",
              "      <td>Divorced</td>\n",
              "      <td>Handlers-cleaners</td>\n",
              "      <td>Not-in-family</td>\n",
              "      <td>White</td>\n",
              "      <td>Male</td>\n",
              "      <td>0</td>\n",
              "      <td>0</td>\n",
              "      <td>40</td>\n",
              "      <td>United-States</td>\n",
              "      <td>0</td>\n",
              "    </tr>\n",
              "    <tr>\n",
              "      <th>3</th>\n",
              "      <td>53.0</td>\n",
              "      <td>Private</td>\n",
              "      <td>234721.0</td>\n",
              "      <td>11th</td>\n",
              "      <td>7.0</td>\n",
              "      <td>Married-civ-spouse</td>\n",
              "      <td>Handlers-cleaners</td>\n",
              "      <td>Husband</td>\n",
              "      <td>Black</td>\n",
              "      <td>NaN</td>\n",
              "      <td>0</td>\n",
              "      <td>0</td>\n",
              "      <td>40</td>\n",
              "      <td>United-States</td>\n",
              "      <td>0</td>\n",
              "    </tr>\n",
              "    <tr>\n",
              "      <th>4</th>\n",
              "      <td>28.0</td>\n",
              "      <td>Private</td>\n",
              "      <td>338409.0</td>\n",
              "      <td>Bachelors</td>\n",
              "      <td>13.0</td>\n",
              "      <td>Married-civ-spouse</td>\n",
              "      <td>Prof-specialty</td>\n",
              "      <td>Wife</td>\n",
              "      <td>Black</td>\n",
              "      <td>Female</td>\n",
              "      <td>0</td>\n",
              "      <td>0</td>\n",
              "      <td>40</td>\n",
              "      <td>Cuba</td>\n",
              "      <td>0</td>\n",
              "    </tr>\n",
              "  </tbody>\n",
              "</table>\n",
              "</div>"
            ],
            "text/plain": [
              "    age         workclass    fnlwgt  ... hours_per_week  native_country income\n",
              "0  39.0         State-gov   77516.0  ...             40   United-States      0\n",
              "1  50.0  Self-emp-not-inc   83311.0  ...             13   United-States      0\n",
              "2  38.0           Private  215646.0  ...             40   United-States      0\n",
              "3  53.0           Private  234721.0  ...             40   United-States      0\n",
              "4  28.0           Private  338409.0  ...             40            Cuba      0\n",
              "\n",
              "[5 rows x 15 columns]"
            ]
          },
          "metadata": {
            "tags": []
          },
          "execution_count": 94
        }
      ]
    },
    {
      "cell_type": "markdown",
      "metadata": {
        "id": "xjDqixOmlpxt",
        "colab_type": "text"
      },
      "source": [
        "### Get this to a format that a classifier will understand - numerial values only"
      ]
    },
    {
      "cell_type": "code",
      "metadata": {
        "id": "9NUk5YrX4yxm",
        "colab_type": "code",
        "outputId": "d9c54585-6a1b-4edc-b308-7aefeb9ec9b9",
        "colab": {
          "base_uri": "https://localhost:8080/",
          "height": 50
        }
      },
      "source": [
        "# Save a copy of the dataset without any future modification\n",
        "# We will compare modified and unmodified performance\n",
        "df_unprocessed = df # create a copy of df, save original for later\n",
        "df_unprocessed = df_unprocessed.dropna(axis=0, how='any')\n",
        "\n",
        "print(df.shape)\n",
        "print(df_unprocessed.shape)"
      ],
      "execution_count": 95,
      "outputs": [
        {
          "output_type": "stream",
          "text": [
            "(5000, 15)\n",
            "(4496, 15)\n"
          ],
          "name": "stdout"
        }
      ]
    },
    {
      "cell_type": "code",
      "metadata": {
        "id": "AOKsThTqB-bt",
        "colab_type": "code",
        "colab": {}
      },
      "source": [
        "#drop columns with non numerical data -> we are going to loose valuable information\n",
        "\n",
        "### FILL IN ###\n",
        "\n"
      ],
      "execution_count": 0,
      "outputs": []
    },
    {
      "cell_type": "code",
      "metadata": {
        "id": "2Vb6mfH0CeTH",
        "colab_type": "code",
        "outputId": "210143e9-9680-45e0-9933-4ca6084c3a9a",
        "colab": {
          "base_uri": "https://localhost:8080/",
          "height": 197
        }
      },
      "source": [
        "df_unprocessed.head(5)"
      ],
      "execution_count": 79,
      "outputs": [
        {
          "output_type": "execute_result",
          "data": {
            "text/html": [
              "<div>\n",
              "<style scoped>\n",
              "    .dataframe tbody tr th:only-of-type {\n",
              "        vertical-align: middle;\n",
              "    }\n",
              "\n",
              "    .dataframe tbody tr th {\n",
              "        vertical-align: top;\n",
              "    }\n",
              "\n",
              "    .dataframe thead th {\n",
              "        text-align: right;\n",
              "    }\n",
              "</style>\n",
              "<table border=\"1\" class=\"dataframe\">\n",
              "  <thead>\n",
              "    <tr style=\"text-align: right;\">\n",
              "      <th></th>\n",
              "      <th>age</th>\n",
              "      <th>fnlwgt</th>\n",
              "      <th>education_num</th>\n",
              "      <th>capital_gain</th>\n",
              "      <th>capital_loss</th>\n",
              "      <th>hours_per_week</th>\n",
              "      <th>income</th>\n",
              "    </tr>\n",
              "  </thead>\n",
              "  <tbody>\n",
              "    <tr>\n",
              "      <th>0</th>\n",
              "      <td>39.0</td>\n",
              "      <td>77516.0</td>\n",
              "      <td>13.0</td>\n",
              "      <td>2174</td>\n",
              "      <td>0</td>\n",
              "      <td>40</td>\n",
              "      <td>0</td>\n",
              "    </tr>\n",
              "    <tr>\n",
              "      <th>1</th>\n",
              "      <td>50.0</td>\n",
              "      <td>83311.0</td>\n",
              "      <td>13.0</td>\n",
              "      <td>0</td>\n",
              "      <td>0</td>\n",
              "      <td>13</td>\n",
              "      <td>0</td>\n",
              "    </tr>\n",
              "    <tr>\n",
              "      <th>2</th>\n",
              "      <td>38.0</td>\n",
              "      <td>215646.0</td>\n",
              "      <td>9.0</td>\n",
              "      <td>0</td>\n",
              "      <td>0</td>\n",
              "      <td>40</td>\n",
              "      <td>0</td>\n",
              "    </tr>\n",
              "    <tr>\n",
              "      <th>4</th>\n",
              "      <td>28.0</td>\n",
              "      <td>338409.0</td>\n",
              "      <td>13.0</td>\n",
              "      <td>0</td>\n",
              "      <td>0</td>\n",
              "      <td>40</td>\n",
              "      <td>0</td>\n",
              "    </tr>\n",
              "    <tr>\n",
              "      <th>5</th>\n",
              "      <td>37.0</td>\n",
              "      <td>284582.0</td>\n",
              "      <td>14.0</td>\n",
              "      <td>0</td>\n",
              "      <td>0</td>\n",
              "      <td>40</td>\n",
              "      <td>0</td>\n",
              "    </tr>\n",
              "  </tbody>\n",
              "</table>\n",
              "</div>"
            ],
            "text/plain": [
              "    age    fnlwgt  education_num  ...  capital_loss  hours_per_week  income\n",
              "0  39.0   77516.0           13.0  ...             0              40       0\n",
              "1  50.0   83311.0           13.0  ...             0              13       0\n",
              "2  38.0  215646.0            9.0  ...             0              40       0\n",
              "4  28.0  338409.0           13.0  ...             0              40       0\n",
              "5  37.0  284582.0           14.0  ...             0              40       0\n",
              "\n",
              "[5 rows x 7 columns]"
            ]
          },
          "metadata": {
            "tags": []
          },
          "execution_count": 79
        }
      ]
    },
    {
      "cell_type": "code",
      "metadata": {
        "id": "q_lN7r55wlWL",
        "colab_type": "code",
        "colab": {}
      },
      "source": [
        "# Seperate feautes from target\n",
        "X_unprocessed = df_unprocessed.drop('income', 1) #0 is for index, 1 is for column name\n",
        "y = df_unprocessed.income"
      ],
      "execution_count": 0,
      "outputs": []
    },
    {
      "cell_type": "code",
      "metadata": {
        "id": "TndkKpLCwllG",
        "colab_type": "code",
        "colab": {}
      },
      "source": [
        "#import libraries for modelling\n",
        "from sklearn.linear_model import LogisticRegression\n",
        "from sklearn.model_selection import train_test_split\n",
        "from sklearn.metrics import roc_auc_score"
      ],
      "execution_count": 0,
      "outputs": []
    },
    {
      "cell_type": "code",
      "metadata": {
        "id": "htZqinOfw_SF",
        "colab_type": "code",
        "colab": {}
      },
      "source": [
        "#split to train and test set\n",
        "X_train_unproc, X_test_unproc, y_train, y_test = train_test_split(X_unprocessed, y, train_size=0.70, random_state = 1)"
      ],
      "execution_count": 0,
      "outputs": []
    },
    {
      "cell_type": "code",
      "metadata": {
        "id": "dIrn9uLOw_XX",
        "colab_type": "code",
        "colab": {}
      },
      "source": [
        "### FILL IN ###\n",
        "# Funtion for fitting and evaluating\n",
        "\n",
        "\n",
        "    "
      ],
      "execution_count": 0,
      "outputs": []
    },
    {
      "cell_type": "code",
      "metadata": {
        "id": "OBZNZcrsw_cS",
        "colab_type": "code",
        "outputId": "e63e7ef0-dfc7-48e8-e103-44abb92db9be",
        "colab": {
          "base_uri": "https://localhost:8080/",
          "height": 86
        }
      },
      "source": [
        "accuracy_unproc = fit_eval(X_train_unproc, X_test_unproc, y_train, y_test)\n",
        "print (\"The accuracy without data preprocessing is: %.2f %%\" %(accuracy_unproc*100))"
      ],
      "execution_count": 84,
      "outputs": [
        {
          "output_type": "stream",
          "text": [
            "The accuracy without data preprocessing is: 60.35 %\n"
          ],
          "name": "stdout"
        },
        {
          "output_type": "stream",
          "text": [
            "/usr/local/lib/python3.6/dist-packages/sklearn/linear_model/logistic.py:432: FutureWarning: Default solver will be changed to 'lbfgs' in 0.22. Specify a solver to silence this warning.\n",
            "  FutureWarning)\n"
          ],
          "name": "stderr"
        }
      ]
    },
    {
      "cell_type": "markdown",
      "metadata": {
        "id": "2hPmLgyG6D1q",
        "colab_type": "text"
      },
      "source": [
        "#------------------------------------------------------------------------------------------\n",
        "#Now let's actually prepare the data!"
      ]
    },
    {
      "cell_type": "code",
      "metadata": {
        "id": "35NL4DbKw_ik",
        "colab_type": "code",
        "colab": {}
      },
      "source": [
        "y = df.income\n",
        "X = df.drop(['income'], 1)"
      ],
      "execution_count": 0,
      "outputs": []
    },
    {
      "cell_type": "markdown",
      "metadata": {
        "id": "cs3ZnMxWm-6P",
        "colab_type": "text"
      },
      "source": [
        "X.head(5)"
      ]
    },
    {
      "cell_type": "code",
      "metadata": {
        "id": "FuAVHK4LnBua",
        "colab_type": "code",
        "colab": {
          "base_uri": "https://localhost:8080/",
          "height": 284
        },
        "outputId": "cc1d50fc-8b41-42ac-994f-b1277b17963e"
      },
      "source": [
        "X.head(5)"
      ],
      "execution_count": 86,
      "outputs": [
        {
          "output_type": "execute_result",
          "data": {
            "text/html": [
              "<div>\n",
              "<style scoped>\n",
              "    .dataframe tbody tr th:only-of-type {\n",
              "        vertical-align: middle;\n",
              "    }\n",
              "\n",
              "    .dataframe tbody tr th {\n",
              "        vertical-align: top;\n",
              "    }\n",
              "\n",
              "    .dataframe thead th {\n",
              "        text-align: right;\n",
              "    }\n",
              "</style>\n",
              "<table border=\"1\" class=\"dataframe\">\n",
              "  <thead>\n",
              "    <tr style=\"text-align: right;\">\n",
              "      <th></th>\n",
              "      <th>age</th>\n",
              "      <th>workclass</th>\n",
              "      <th>fnlwgt</th>\n",
              "      <th>education</th>\n",
              "      <th>education_num</th>\n",
              "      <th>marital_status</th>\n",
              "      <th>occupation</th>\n",
              "      <th>relationship</th>\n",
              "      <th>race</th>\n",
              "      <th>sex</th>\n",
              "      <th>capital_gain</th>\n",
              "      <th>capital_loss</th>\n",
              "      <th>hours_per_week</th>\n",
              "      <th>native_country</th>\n",
              "    </tr>\n",
              "  </thead>\n",
              "  <tbody>\n",
              "    <tr>\n",
              "      <th>0</th>\n",
              "      <td>39.0</td>\n",
              "      <td>State-gov</td>\n",
              "      <td>77516.0</td>\n",
              "      <td>Bachelors</td>\n",
              "      <td>13.0</td>\n",
              "      <td>Never-married</td>\n",
              "      <td>Adm-clerical</td>\n",
              "      <td>Not-in-family</td>\n",
              "      <td>White</td>\n",
              "      <td>Male</td>\n",
              "      <td>2174</td>\n",
              "      <td>0</td>\n",
              "      <td>40</td>\n",
              "      <td>United-States</td>\n",
              "    </tr>\n",
              "    <tr>\n",
              "      <th>1</th>\n",
              "      <td>50.0</td>\n",
              "      <td>Self-emp-not-inc</td>\n",
              "      <td>83311.0</td>\n",
              "      <td>Bachelors</td>\n",
              "      <td>13.0</td>\n",
              "      <td>Married-civ-spouse</td>\n",
              "      <td>Exec-managerial</td>\n",
              "      <td>Husband</td>\n",
              "      <td>White</td>\n",
              "      <td>Male</td>\n",
              "      <td>0</td>\n",
              "      <td>0</td>\n",
              "      <td>13</td>\n",
              "      <td>United-States</td>\n",
              "    </tr>\n",
              "    <tr>\n",
              "      <th>2</th>\n",
              "      <td>38.0</td>\n",
              "      <td>Private</td>\n",
              "      <td>215646.0</td>\n",
              "      <td>HS-grad</td>\n",
              "      <td>9.0</td>\n",
              "      <td>Divorced</td>\n",
              "      <td>Handlers-cleaners</td>\n",
              "      <td>Not-in-family</td>\n",
              "      <td>White</td>\n",
              "      <td>Male</td>\n",
              "      <td>0</td>\n",
              "      <td>0</td>\n",
              "      <td>40</td>\n",
              "      <td>United-States</td>\n",
              "    </tr>\n",
              "    <tr>\n",
              "      <th>3</th>\n",
              "      <td>53.0</td>\n",
              "      <td>Private</td>\n",
              "      <td>234721.0</td>\n",
              "      <td>11th</td>\n",
              "      <td>7.0</td>\n",
              "      <td>Married-civ-spouse</td>\n",
              "      <td>Handlers-cleaners</td>\n",
              "      <td>Husband</td>\n",
              "      <td>Black</td>\n",
              "      <td>NaN</td>\n",
              "      <td>0</td>\n",
              "      <td>0</td>\n",
              "      <td>40</td>\n",
              "      <td>United-States</td>\n",
              "    </tr>\n",
              "    <tr>\n",
              "      <th>4</th>\n",
              "      <td>28.0</td>\n",
              "      <td>Private</td>\n",
              "      <td>338409.0</td>\n",
              "      <td>Bachelors</td>\n",
              "      <td>13.0</td>\n",
              "      <td>Married-civ-spouse</td>\n",
              "      <td>Prof-specialty</td>\n",
              "      <td>Wife</td>\n",
              "      <td>Black</td>\n",
              "      <td>Female</td>\n",
              "      <td>0</td>\n",
              "      <td>0</td>\n",
              "      <td>40</td>\n",
              "      <td>Cuba</td>\n",
              "    </tr>\n",
              "  </tbody>\n",
              "</table>\n",
              "</div>"
            ],
            "text/plain": [
              "    age         workclass  ...  hours_per_week native_country\n",
              "0  39.0         State-gov  ...              40  United-States\n",
              "1  50.0  Self-emp-not-inc  ...              13  United-States\n",
              "2  38.0           Private  ...              40  United-States\n",
              "3  53.0           Private  ...              40  United-States\n",
              "4  28.0           Private  ...              40           Cuba\n",
              "\n",
              "[5 rows x 14 columns]"
            ]
          },
          "metadata": {
            "tags": []
          },
          "execution_count": 86
        }
      ]
    },
    {
      "cell_type": "markdown",
      "metadata": {
        "id": "j_YXgbfh6Rhj",
        "colab_type": "text"
      },
      "source": [
        "##4) Feature engineering\n",
        "\n",
        "\n"
      ]
    },
    {
      "cell_type": "markdown",
      "metadata": {
        "id": "VsMhtEzujphQ",
        "colab_type": "text"
      },
      "source": [
        "###4.1) Encode categorical variables"
      ]
    },
    {
      "cell_type": "code",
      "metadata": {
        "id": "Tn54nxvB7qXM",
        "colab_type": "code",
        "colab": {}
      },
      "source": [
        "# Create a list of features to dummy\n",
        "todummy_list = ['workclass', 'education', 'marital_status', 'occupation', 'relationship', 'race', 'sex', 'native_country']\n",
        "\n",
        "\n",
        "# Function to dummy all the categorical variables used for modeling\n",
        "\n",
        "### FILL IN ###\n",
        "\n",
        "\n",
        "X = dummy_df(df, todummy_list)"
      ],
      "execution_count": 0,
      "outputs": []
    },
    {
      "cell_type": "code",
      "metadata": {
        "id": "8cS02jV2Ayhs",
        "colab_type": "code",
        "outputId": "dff9100a-89d3-4085-a99b-687304526329",
        "colab": {
          "base_uri": "https://localhost:8080/",
          "height": 263
        }
      },
      "source": [
        "# Sanity check\n",
        "X.head(5)"
      ],
      "execution_count": 88,
      "outputs": [
        {
          "output_type": "execute_result",
          "data": {
            "text/html": [
              "<div>\n",
              "<style scoped>\n",
              "    .dataframe tbody tr th:only-of-type {\n",
              "        vertical-align: middle;\n",
              "    }\n",
              "\n",
              "    .dataframe tbody tr th {\n",
              "        vertical-align: top;\n",
              "    }\n",
              "\n",
              "    .dataframe thead th {\n",
              "        text-align: right;\n",
              "    }\n",
              "</style>\n",
              "<table border=\"1\" class=\"dataframe\">\n",
              "  <thead>\n",
              "    <tr style=\"text-align: right;\">\n",
              "      <th></th>\n",
              "      <th>age</th>\n",
              "      <th>fnlwgt</th>\n",
              "      <th>education_num</th>\n",
              "      <th>capital_gain</th>\n",
              "      <th>capital_loss</th>\n",
              "      <th>hours_per_week</th>\n",
              "      <th>income</th>\n",
              "      <th>workclass_?</th>\n",
              "      <th>workclass_Federal-gov</th>\n",
              "      <th>workclass_Local-gov</th>\n",
              "      <th>workclass_Private</th>\n",
              "      <th>workclass_Self-emp-inc</th>\n",
              "      <th>workclass_Self-emp-not-inc</th>\n",
              "      <th>workclass_State-gov</th>\n",
              "      <th>workclass_Without-pay</th>\n",
              "      <th>education_10th</th>\n",
              "      <th>education_11th</th>\n",
              "      <th>education_12th</th>\n",
              "      <th>education_1st-4th</th>\n",
              "      <th>education_5th-6th</th>\n",
              "      <th>education_7th-8th</th>\n",
              "      <th>education_9th</th>\n",
              "      <th>education_?</th>\n",
              "      <th>education_Assoc-acdm</th>\n",
              "      <th>education_Assoc-voc</th>\n",
              "      <th>education_Bachelors</th>\n",
              "      <th>education_Doctorate</th>\n",
              "      <th>education_HS-grad</th>\n",
              "      <th>education_Masters</th>\n",
              "      <th>education_Preschool</th>\n",
              "      <th>education_Prof-school</th>\n",
              "      <th>education_Some-college</th>\n",
              "      <th>marital_status_Divorced</th>\n",
              "      <th>marital_status_Married-AF-spouse</th>\n",
              "      <th>marital_status_Married-civ-spouse</th>\n",
              "      <th>marital_status_Married-spouse-absent</th>\n",
              "      <th>marital_status_Never-married</th>\n",
              "      <th>marital_status_Separated</th>\n",
              "      <th>marital_status_Widowed</th>\n",
              "      <th>occupation_?</th>\n",
              "      <th>...</th>\n",
              "      <th>native_country_?</th>\n",
              "      <th>native_country_Cambodia</th>\n",
              "      <th>native_country_Canada</th>\n",
              "      <th>native_country_China</th>\n",
              "      <th>native_country_Columbia</th>\n",
              "      <th>native_country_Cuba</th>\n",
              "      <th>native_country_Dominican-Republic</th>\n",
              "      <th>native_country_Ecuador</th>\n",
              "      <th>native_country_El-Salvador</th>\n",
              "      <th>native_country_England</th>\n",
              "      <th>native_country_France</th>\n",
              "      <th>native_country_Germany</th>\n",
              "      <th>native_country_Greece</th>\n",
              "      <th>native_country_Guatemala</th>\n",
              "      <th>native_country_Haiti</th>\n",
              "      <th>native_country_Honduras</th>\n",
              "      <th>native_country_Hong</th>\n",
              "      <th>native_country_India</th>\n",
              "      <th>native_country_Iran</th>\n",
              "      <th>native_country_Ireland</th>\n",
              "      <th>native_country_Italy</th>\n",
              "      <th>native_country_Jamaica</th>\n",
              "      <th>native_country_Japan</th>\n",
              "      <th>native_country_Laos</th>\n",
              "      <th>native_country_Mexico</th>\n",
              "      <th>native_country_Nicaragua</th>\n",
              "      <th>native_country_Outlying-US(Guam-USVI-etc)</th>\n",
              "      <th>native_country_Peru</th>\n",
              "      <th>native_country_Philippines</th>\n",
              "      <th>native_country_Poland</th>\n",
              "      <th>native_country_Portugal</th>\n",
              "      <th>native_country_Puerto-Rico</th>\n",
              "      <th>native_country_Scotland</th>\n",
              "      <th>native_country_South</th>\n",
              "      <th>native_country_Taiwan</th>\n",
              "      <th>native_country_Thailand</th>\n",
              "      <th>native_country_Trinadad&amp;Tobago</th>\n",
              "      <th>native_country_United-States</th>\n",
              "      <th>native_country_Vietnam</th>\n",
              "      <th>native_country_Yugoslavia</th>\n",
              "    </tr>\n",
              "  </thead>\n",
              "  <tbody>\n",
              "    <tr>\n",
              "      <th>0</th>\n",
              "      <td>39.0</td>\n",
              "      <td>77516.0</td>\n",
              "      <td>13.0</td>\n",
              "      <td>2174</td>\n",
              "      <td>0</td>\n",
              "      <td>40</td>\n",
              "      <td>0</td>\n",
              "      <td>0</td>\n",
              "      <td>0</td>\n",
              "      <td>0</td>\n",
              "      <td>0</td>\n",
              "      <td>0</td>\n",
              "      <td>0</td>\n",
              "      <td>1</td>\n",
              "      <td>0</td>\n",
              "      <td>0</td>\n",
              "      <td>0</td>\n",
              "      <td>0</td>\n",
              "      <td>0</td>\n",
              "      <td>0</td>\n",
              "      <td>0</td>\n",
              "      <td>0</td>\n",
              "      <td>0</td>\n",
              "      <td>0</td>\n",
              "      <td>0</td>\n",
              "      <td>1</td>\n",
              "      <td>0</td>\n",
              "      <td>0</td>\n",
              "      <td>0</td>\n",
              "      <td>0</td>\n",
              "      <td>0</td>\n",
              "      <td>0</td>\n",
              "      <td>0</td>\n",
              "      <td>0</td>\n",
              "      <td>0</td>\n",
              "      <td>0</td>\n",
              "      <td>1</td>\n",
              "      <td>0</td>\n",
              "      <td>0</td>\n",
              "      <td>0</td>\n",
              "      <td>...</td>\n",
              "      <td>0</td>\n",
              "      <td>0</td>\n",
              "      <td>0</td>\n",
              "      <td>0</td>\n",
              "      <td>0</td>\n",
              "      <td>0</td>\n",
              "      <td>0</td>\n",
              "      <td>0</td>\n",
              "      <td>0</td>\n",
              "      <td>0</td>\n",
              "      <td>0</td>\n",
              "      <td>0</td>\n",
              "      <td>0</td>\n",
              "      <td>0</td>\n",
              "      <td>0</td>\n",
              "      <td>0</td>\n",
              "      <td>0</td>\n",
              "      <td>0</td>\n",
              "      <td>0</td>\n",
              "      <td>0</td>\n",
              "      <td>0</td>\n",
              "      <td>0</td>\n",
              "      <td>0</td>\n",
              "      <td>0</td>\n",
              "      <td>0</td>\n",
              "      <td>0</td>\n",
              "      <td>0</td>\n",
              "      <td>0</td>\n",
              "      <td>0</td>\n",
              "      <td>0</td>\n",
              "      <td>0</td>\n",
              "      <td>0</td>\n",
              "      <td>0</td>\n",
              "      <td>0</td>\n",
              "      <td>0</td>\n",
              "      <td>0</td>\n",
              "      <td>0</td>\n",
              "      <td>1</td>\n",
              "      <td>0</td>\n",
              "      <td>0</td>\n",
              "    </tr>\n",
              "    <tr>\n",
              "      <th>1</th>\n",
              "      <td>50.0</td>\n",
              "      <td>83311.0</td>\n",
              "      <td>13.0</td>\n",
              "      <td>0</td>\n",
              "      <td>0</td>\n",
              "      <td>13</td>\n",
              "      <td>0</td>\n",
              "      <td>0</td>\n",
              "      <td>0</td>\n",
              "      <td>0</td>\n",
              "      <td>0</td>\n",
              "      <td>0</td>\n",
              "      <td>1</td>\n",
              "      <td>0</td>\n",
              "      <td>0</td>\n",
              "      <td>0</td>\n",
              "      <td>0</td>\n",
              "      <td>0</td>\n",
              "      <td>0</td>\n",
              "      <td>0</td>\n",
              "      <td>0</td>\n",
              "      <td>0</td>\n",
              "      <td>0</td>\n",
              "      <td>0</td>\n",
              "      <td>0</td>\n",
              "      <td>1</td>\n",
              "      <td>0</td>\n",
              "      <td>0</td>\n",
              "      <td>0</td>\n",
              "      <td>0</td>\n",
              "      <td>0</td>\n",
              "      <td>0</td>\n",
              "      <td>0</td>\n",
              "      <td>0</td>\n",
              "      <td>1</td>\n",
              "      <td>0</td>\n",
              "      <td>0</td>\n",
              "      <td>0</td>\n",
              "      <td>0</td>\n",
              "      <td>0</td>\n",
              "      <td>...</td>\n",
              "      <td>0</td>\n",
              "      <td>0</td>\n",
              "      <td>0</td>\n",
              "      <td>0</td>\n",
              "      <td>0</td>\n",
              "      <td>0</td>\n",
              "      <td>0</td>\n",
              "      <td>0</td>\n",
              "      <td>0</td>\n",
              "      <td>0</td>\n",
              "      <td>0</td>\n",
              "      <td>0</td>\n",
              "      <td>0</td>\n",
              "      <td>0</td>\n",
              "      <td>0</td>\n",
              "      <td>0</td>\n",
              "      <td>0</td>\n",
              "      <td>0</td>\n",
              "      <td>0</td>\n",
              "      <td>0</td>\n",
              "      <td>0</td>\n",
              "      <td>0</td>\n",
              "      <td>0</td>\n",
              "      <td>0</td>\n",
              "      <td>0</td>\n",
              "      <td>0</td>\n",
              "      <td>0</td>\n",
              "      <td>0</td>\n",
              "      <td>0</td>\n",
              "      <td>0</td>\n",
              "      <td>0</td>\n",
              "      <td>0</td>\n",
              "      <td>0</td>\n",
              "      <td>0</td>\n",
              "      <td>0</td>\n",
              "      <td>0</td>\n",
              "      <td>0</td>\n",
              "      <td>1</td>\n",
              "      <td>0</td>\n",
              "      <td>0</td>\n",
              "    </tr>\n",
              "    <tr>\n",
              "      <th>2</th>\n",
              "      <td>38.0</td>\n",
              "      <td>215646.0</td>\n",
              "      <td>9.0</td>\n",
              "      <td>0</td>\n",
              "      <td>0</td>\n",
              "      <td>40</td>\n",
              "      <td>0</td>\n",
              "      <td>0</td>\n",
              "      <td>0</td>\n",
              "      <td>0</td>\n",
              "      <td>1</td>\n",
              "      <td>0</td>\n",
              "      <td>0</td>\n",
              "      <td>0</td>\n",
              "      <td>0</td>\n",
              "      <td>0</td>\n",
              "      <td>0</td>\n",
              "      <td>0</td>\n",
              "      <td>0</td>\n",
              "      <td>0</td>\n",
              "      <td>0</td>\n",
              "      <td>0</td>\n",
              "      <td>0</td>\n",
              "      <td>0</td>\n",
              "      <td>0</td>\n",
              "      <td>0</td>\n",
              "      <td>0</td>\n",
              "      <td>1</td>\n",
              "      <td>0</td>\n",
              "      <td>0</td>\n",
              "      <td>0</td>\n",
              "      <td>0</td>\n",
              "      <td>1</td>\n",
              "      <td>0</td>\n",
              "      <td>0</td>\n",
              "      <td>0</td>\n",
              "      <td>0</td>\n",
              "      <td>0</td>\n",
              "      <td>0</td>\n",
              "      <td>0</td>\n",
              "      <td>...</td>\n",
              "      <td>0</td>\n",
              "      <td>0</td>\n",
              "      <td>0</td>\n",
              "      <td>0</td>\n",
              "      <td>0</td>\n",
              "      <td>0</td>\n",
              "      <td>0</td>\n",
              "      <td>0</td>\n",
              "      <td>0</td>\n",
              "      <td>0</td>\n",
              "      <td>0</td>\n",
              "      <td>0</td>\n",
              "      <td>0</td>\n",
              "      <td>0</td>\n",
              "      <td>0</td>\n",
              "      <td>0</td>\n",
              "      <td>0</td>\n",
              "      <td>0</td>\n",
              "      <td>0</td>\n",
              "      <td>0</td>\n",
              "      <td>0</td>\n",
              "      <td>0</td>\n",
              "      <td>0</td>\n",
              "      <td>0</td>\n",
              "      <td>0</td>\n",
              "      <td>0</td>\n",
              "      <td>0</td>\n",
              "      <td>0</td>\n",
              "      <td>0</td>\n",
              "      <td>0</td>\n",
              "      <td>0</td>\n",
              "      <td>0</td>\n",
              "      <td>0</td>\n",
              "      <td>0</td>\n",
              "      <td>0</td>\n",
              "      <td>0</td>\n",
              "      <td>0</td>\n",
              "      <td>1</td>\n",
              "      <td>0</td>\n",
              "      <td>0</td>\n",
              "    </tr>\n",
              "    <tr>\n",
              "      <th>3</th>\n",
              "      <td>53.0</td>\n",
              "      <td>234721.0</td>\n",
              "      <td>7.0</td>\n",
              "      <td>0</td>\n",
              "      <td>0</td>\n",
              "      <td>40</td>\n",
              "      <td>0</td>\n",
              "      <td>0</td>\n",
              "      <td>0</td>\n",
              "      <td>0</td>\n",
              "      <td>1</td>\n",
              "      <td>0</td>\n",
              "      <td>0</td>\n",
              "      <td>0</td>\n",
              "      <td>0</td>\n",
              "      <td>0</td>\n",
              "      <td>1</td>\n",
              "      <td>0</td>\n",
              "      <td>0</td>\n",
              "      <td>0</td>\n",
              "      <td>0</td>\n",
              "      <td>0</td>\n",
              "      <td>0</td>\n",
              "      <td>0</td>\n",
              "      <td>0</td>\n",
              "      <td>0</td>\n",
              "      <td>0</td>\n",
              "      <td>0</td>\n",
              "      <td>0</td>\n",
              "      <td>0</td>\n",
              "      <td>0</td>\n",
              "      <td>0</td>\n",
              "      <td>0</td>\n",
              "      <td>0</td>\n",
              "      <td>1</td>\n",
              "      <td>0</td>\n",
              "      <td>0</td>\n",
              "      <td>0</td>\n",
              "      <td>0</td>\n",
              "      <td>0</td>\n",
              "      <td>...</td>\n",
              "      <td>0</td>\n",
              "      <td>0</td>\n",
              "      <td>0</td>\n",
              "      <td>0</td>\n",
              "      <td>0</td>\n",
              "      <td>0</td>\n",
              "      <td>0</td>\n",
              "      <td>0</td>\n",
              "      <td>0</td>\n",
              "      <td>0</td>\n",
              "      <td>0</td>\n",
              "      <td>0</td>\n",
              "      <td>0</td>\n",
              "      <td>0</td>\n",
              "      <td>0</td>\n",
              "      <td>0</td>\n",
              "      <td>0</td>\n",
              "      <td>0</td>\n",
              "      <td>0</td>\n",
              "      <td>0</td>\n",
              "      <td>0</td>\n",
              "      <td>0</td>\n",
              "      <td>0</td>\n",
              "      <td>0</td>\n",
              "      <td>0</td>\n",
              "      <td>0</td>\n",
              "      <td>0</td>\n",
              "      <td>0</td>\n",
              "      <td>0</td>\n",
              "      <td>0</td>\n",
              "      <td>0</td>\n",
              "      <td>0</td>\n",
              "      <td>0</td>\n",
              "      <td>0</td>\n",
              "      <td>0</td>\n",
              "      <td>0</td>\n",
              "      <td>0</td>\n",
              "      <td>1</td>\n",
              "      <td>0</td>\n",
              "      <td>0</td>\n",
              "    </tr>\n",
              "    <tr>\n",
              "      <th>4</th>\n",
              "      <td>28.0</td>\n",
              "      <td>338409.0</td>\n",
              "      <td>13.0</td>\n",
              "      <td>0</td>\n",
              "      <td>0</td>\n",
              "      <td>40</td>\n",
              "      <td>0</td>\n",
              "      <td>0</td>\n",
              "      <td>0</td>\n",
              "      <td>0</td>\n",
              "      <td>1</td>\n",
              "      <td>0</td>\n",
              "      <td>0</td>\n",
              "      <td>0</td>\n",
              "      <td>0</td>\n",
              "      <td>0</td>\n",
              "      <td>0</td>\n",
              "      <td>0</td>\n",
              "      <td>0</td>\n",
              "      <td>0</td>\n",
              "      <td>0</td>\n",
              "      <td>0</td>\n",
              "      <td>0</td>\n",
              "      <td>0</td>\n",
              "      <td>0</td>\n",
              "      <td>1</td>\n",
              "      <td>0</td>\n",
              "      <td>0</td>\n",
              "      <td>0</td>\n",
              "      <td>0</td>\n",
              "      <td>0</td>\n",
              "      <td>0</td>\n",
              "      <td>0</td>\n",
              "      <td>0</td>\n",
              "      <td>1</td>\n",
              "      <td>0</td>\n",
              "      <td>0</td>\n",
              "      <td>0</td>\n",
              "      <td>0</td>\n",
              "      <td>0</td>\n",
              "      <td>...</td>\n",
              "      <td>0</td>\n",
              "      <td>0</td>\n",
              "      <td>0</td>\n",
              "      <td>0</td>\n",
              "      <td>0</td>\n",
              "      <td>1</td>\n",
              "      <td>0</td>\n",
              "      <td>0</td>\n",
              "      <td>0</td>\n",
              "      <td>0</td>\n",
              "      <td>0</td>\n",
              "      <td>0</td>\n",
              "      <td>0</td>\n",
              "      <td>0</td>\n",
              "      <td>0</td>\n",
              "      <td>0</td>\n",
              "      <td>0</td>\n",
              "      <td>0</td>\n",
              "      <td>0</td>\n",
              "      <td>0</td>\n",
              "      <td>0</td>\n",
              "      <td>0</td>\n",
              "      <td>0</td>\n",
              "      <td>0</td>\n",
              "      <td>0</td>\n",
              "      <td>0</td>\n",
              "      <td>0</td>\n",
              "      <td>0</td>\n",
              "      <td>0</td>\n",
              "      <td>0</td>\n",
              "      <td>0</td>\n",
              "      <td>0</td>\n",
              "      <td>0</td>\n",
              "      <td>0</td>\n",
              "      <td>0</td>\n",
              "      <td>0</td>\n",
              "      <td>0</td>\n",
              "      <td>0</td>\n",
              "      <td>0</td>\n",
              "      <td>0</td>\n",
              "    </tr>\n",
              "  </tbody>\n",
              "</table>\n",
              "<p>5 rows × 107 columns</p>\n",
              "</div>"
            ],
            "text/plain": [
              "    age    fnlwgt  ...  native_country_Vietnam  native_country_Yugoslavia\n",
              "0  39.0   77516.0  ...                       0                          0\n",
              "1  50.0   83311.0  ...                       0                          0\n",
              "2  38.0  215646.0  ...                       0                          0\n",
              "3  53.0  234721.0  ...                       0                          0\n",
              "4  28.0  338409.0  ...                       0                          0\n",
              "\n",
              "[5 rows x 107 columns]"
            ]
          },
          "metadata": {
            "tags": []
          },
          "execution_count": 88
        }
      ]
    },
    {
      "cell_type": "code",
      "metadata": {
        "id": "3JNisOBiRByE",
        "colab_type": "code",
        "outputId": "36ce1b1f-8c01-4233-c0fe-20d2d62e03a9",
        "colab": {
          "base_uri": "https://localhost:8080/",
          "height": 116
        }
      },
      "source": [
        "# How much of your data is missing?\n",
        "X.isnull().sum().sort_values(ascending=False).head()"
      ],
      "execution_count": 89,
      "outputs": [
        {
          "output_type": "execute_result",
          "data": {
            "text/plain": [
              "fnlwgt                 107\n",
              "education_num           57\n",
              "age                     48\n",
              "occupation_?             0\n",
              "education_Preschool      0\n",
              "dtype: int64"
            ]
          },
          "metadata": {
            "tags": []
          },
          "execution_count": 89
        }
      ]
    },
    {
      "cell_type": "markdown",
      "metadata": {
        "id": "bfs3f9awjbiv",
        "colab_type": "text"
      },
      "source": [
        "###4.2) Dealing with missing values\n"
      ]
    },
    {
      "cell_type": "code",
      "metadata": {
        "id": "qePgSdHB94jW",
        "colab_type": "code",
        "outputId": "9dda5355-8876-4903-d86f-02bfe1a123f5",
        "colab": {
          "base_uri": "https://localhost:8080/",
          "height": 70
        }
      },
      "source": [
        "from sklearn.preprocessing import Imputer\n",
        "# Restore data using median of \n",
        "# Try and explore other hyperparameters\n",
        "\n",
        "### FILL IN ###\n"
      ],
      "execution_count": 96,
      "outputs": [
        {
          "output_type": "stream",
          "text": [
            "/usr/local/lib/python3.6/dist-packages/sklearn/utils/deprecation.py:66: DeprecationWarning: Class Imputer is deprecated; Imputer was deprecated in version 0.20 and will be removed in 0.22. Import impute.SimpleImputer from sklearn instead.\n",
            "  warnings.warn(msg, category=DeprecationWarning)\n"
          ],
          "name": "stderr"
        }
      ]
    },
    {
      "cell_type": "code",
      "metadata": {
        "id": "jXwCc4FB-Dxt",
        "colab_type": "code",
        "outputId": "8804bbb1-ebff-44ea-c65b-259b84005825",
        "colab": {
          "base_uri": "https://localhost:8080/",
          "height": 116
        }
      },
      "source": [
        "# Now we shouldn't have any missing values, let's check it:\n",
        "X.isnull().sum().sort_values(ascending=False).head()"
      ],
      "execution_count": 61,
      "outputs": [
        {
          "output_type": "execute_result",
          "data": {
            "text/plain": [
              "native_country_Yugoslavia    0\n",
              "education_Doctorate          0\n",
              "education_Masters            0\n",
              "education_Preschool          0\n",
              "education_Prof-school        0\n",
              "dtype: int64"
            ]
          },
          "metadata": {
            "tags": []
          },
          "execution_count": 61
        }
      ]
    },
    {
      "cell_type": "markdown",
      "metadata": {
        "id": "4UHf_Hrw-FI2",
        "colab_type": "text"
      },
      "source": [
        "##5) PCA"
      ]
    },
    {
      "cell_type": "code",
      "metadata": {
        "id": "v03bAyPe-X3C",
        "colab_type": "code",
        "colab": {}
      },
      "source": [
        "# Use PCA from sklearn.decompostion to find principal components\n",
        "from sklearn.decomposition import PCA\n",
        "\n",
        "#10 best columns that bests explain the data\n",
        "pca = PCA(n_components=10)\n",
        "X_pca = pd.DataFrame(pca.fit_transform(X))"
      ],
      "execution_count": 0,
      "outputs": []
    },
    {
      "cell_type": "code",
      "metadata": {
        "id": "BzxB5LaO-onK",
        "colab_type": "code",
        "outputId": "8999ad39-204e-4302-c1e1-a80938ff2c6f",
        "colab": {
          "base_uri": "https://localhost:8080/",
          "height": 197
        }
      },
      "source": [
        "X_pca.head(5)"
      ],
      "execution_count": 63,
      "outputs": [
        {
          "output_type": "execute_result",
          "data": {
            "text/html": [
              "<div>\n",
              "<style scoped>\n",
              "    .dataframe tbody tr th:only-of-type {\n",
              "        vertical-align: middle;\n",
              "    }\n",
              "\n",
              "    .dataframe tbody tr th {\n",
              "        vertical-align: top;\n",
              "    }\n",
              "\n",
              "    .dataframe thead th {\n",
              "        text-align: right;\n",
              "    }\n",
              "</style>\n",
              "<table border=\"1\" class=\"dataframe\">\n",
              "  <thead>\n",
              "    <tr style=\"text-align: right;\">\n",
              "      <th></th>\n",
              "      <th>0</th>\n",
              "      <th>1</th>\n",
              "      <th>2</th>\n",
              "      <th>3</th>\n",
              "      <th>4</th>\n",
              "      <th>5</th>\n",
              "      <th>6</th>\n",
              "      <th>7</th>\n",
              "      <th>8</th>\n",
              "      <th>9</th>\n",
              "    </tr>\n",
              "  </thead>\n",
              "  <tbody>\n",
              "    <tr>\n",
              "      <th>0</th>\n",
              "      <td>-113214.310906</td>\n",
              "      <td>1139.462580</td>\n",
              "      <td>-93.369606</td>\n",
              "      <td>-0.766681</td>\n",
              "      <td>-0.326872</td>\n",
              "      <td>-2.856363</td>\n",
              "      <td>0.519080</td>\n",
              "      <td>1.121478</td>\n",
              "      <td>0.108223</td>\n",
              "      <td>0.343173</td>\n",
              "    </tr>\n",
              "    <tr>\n",
              "      <th>1</th>\n",
              "      <td>-107419.290228</td>\n",
              "      <td>-1034.479989</td>\n",
              "      <td>-97.563810</td>\n",
              "      <td>6.764821</td>\n",
              "      <td>-28.323378</td>\n",
              "      <td>-3.866826</td>\n",
              "      <td>-1.378072</td>\n",
              "      <td>0.179355</td>\n",
              "      <td>0.300504</td>\n",
              "      <td>0.308817</td>\n",
              "    </tr>\n",
              "    <tr>\n",
              "      <th>2</th>\n",
              "      <td>24915.709850</td>\n",
              "      <td>-1033.217957</td>\n",
              "      <td>-95.300296</td>\n",
              "      <td>-0.027422</td>\n",
              "      <td>-0.169176</td>\n",
              "      <td>1.008955</td>\n",
              "      <td>0.374495</td>\n",
              "      <td>0.476792</td>\n",
              "      <td>-0.881009</td>\n",
              "      <td>0.350851</td>\n",
              "    </tr>\n",
              "    <tr>\n",
              "      <th>3</th>\n",
              "      <td>43990.709694</td>\n",
              "      <td>-1033.034504</td>\n",
              "      <td>-94.951651</td>\n",
              "      <td>15.020337</td>\n",
              "      <td>-2.354063</td>\n",
              "      <td>2.922360</td>\n",
              "      <td>-0.263712</td>\n",
              "      <td>-0.403026</td>\n",
              "      <td>0.048105</td>\n",
              "      <td>-0.348393</td>\n",
              "    </tr>\n",
              "    <tr>\n",
              "      <th>4</th>\n",
              "      <td>147678.709918</td>\n",
              "      <td>-1032.049809</td>\n",
              "      <td>-93.253523</td>\n",
              "      <td>-8.647879</td>\n",
              "      <td>1.267203</td>\n",
              "      <td>-3.304830</td>\n",
              "      <td>0.293379</td>\n",
              "      <td>-1.250544</td>\n",
              "      <td>0.092566</td>\n",
              "      <td>-0.053467</td>\n",
              "    </tr>\n",
              "  </tbody>\n",
              "</table>\n",
              "</div>"
            ],
            "text/plain": [
              "               0            1          2  ...         7         8         9\n",
              "0 -113214.310906  1139.462580 -93.369606  ...  1.121478  0.108223  0.343173\n",
              "1 -107419.290228 -1034.479989 -97.563810  ...  0.179355  0.300504  0.308817\n",
              "2   24915.709850 -1033.217957 -95.300296  ...  0.476792 -0.881009  0.350851\n",
              "3   43990.709694 -1033.034504 -94.951651  ... -0.403026  0.048105 -0.348393\n",
              "4  147678.709918 -1032.049809 -93.253523  ... -1.250544  0.092566 -0.053467\n",
              "\n",
              "[5 rows x 10 columns]"
            ]
          },
          "metadata": {
            "tags": []
          },
          "execution_count": 63
        }
      ]
    },
    {
      "cell_type": "code",
      "metadata": {
        "id": "nG6fVJl9w9S_",
        "colab_type": "code",
        "colab": {}
      },
      "source": [
        "## Split between train and test\n",
        "x_train, x_test, y_train, y_test = train_test_split(X_pca, y, test_size = 0.3, random_state = 100)"
      ],
      "execution_count": 0,
      "outputs": []
    },
    {
      "cell_type": "code",
      "metadata": {
        "id": "MKLHBoxZyueU",
        "colab_type": "code",
        "outputId": "9c77fe76-cb37-4fd4-d686-85c97500dec2",
        "colab": {
          "base_uri": "https://localhost:8080/",
          "height": 153
        }
      },
      "source": [
        "# Use logistic regression again\n",
        "model = LogisticRegression()\n",
        "model.fit(x_train, y_train)"
      ],
      "execution_count": 65,
      "outputs": [
        {
          "output_type": "stream",
          "text": [
            "/usr/local/lib/python3.6/dist-packages/sklearn/linear_model/logistic.py:432: FutureWarning: Default solver will be changed to 'lbfgs' in 0.22. Specify a solver to silence this warning.\n",
            "  FutureWarning)\n"
          ],
          "name": "stderr"
        },
        {
          "output_type": "execute_result",
          "data": {
            "text/plain": [
              "LogisticRegression(C=1.0, class_weight=None, dual=False, fit_intercept=True,\n",
              "                   intercept_scaling=1, l1_ratio=None, max_iter=100,\n",
              "                   multi_class='warn', n_jobs=None, penalty='l2',\n",
              "                   random_state=None, solver='warn', tol=0.0001, verbose=0,\n",
              "                   warm_start=False)"
            ]
          },
          "metadata": {
            "tags": []
          },
          "execution_count": 65
        }
      ]
    },
    {
      "cell_type": "code",
      "metadata": {
        "id": "T41XT-G8Aa8j",
        "colab_type": "code",
        "outputId": "6421a29e-1896-4cef-9f86-4980e278b14b",
        "colab": {
          "base_uri": "https://localhost:8080/",
          "height": 33
        }
      },
      "source": [
        "y_predicted_proc = model.predict(x_test)\n",
        "accuracy_proc = roc_auc_score(y_test,y_predicted_proc)\n",
        "print (\"The accuracy with data preprocessing is: %.2f %%\" %(accuracy_proc*100))"
      ],
      "execution_count": 66,
      "outputs": [
        {
          "output_type": "stream",
          "text": [
            "The accuracy with data preprocessing is: 79.73 %\n"
          ],
          "name": "stdout"
        }
      ]
    },
    {
      "cell_type": "markdown",
      "metadata": {
        "id": "iCHyzIXJjxWC",
        "colab_type": "text"
      },
      "source": [
        "##6) Comparison"
      ]
    },
    {
      "cell_type": "code",
      "metadata": {
        "id": "z6k_-CMABgec",
        "colab_type": "code",
        "colab": {}
      },
      "source": [
        "improvement = ((accuracy_proc-accuracy_unproc)/accuracy_unproc)*100"
      ],
      "execution_count": 0,
      "outputs": []
    },
    {
      "cell_type": "code",
      "metadata": {
        "id": "6gERTjlYCA26",
        "colab_type": "code",
        "outputId": "0a93e92a-c024-45a8-bed2-24ea4c60a4e7",
        "colab": {
          "base_uri": "https://localhost:8080/",
          "height": 66
        }
      },
      "source": [
        "# Compare model performance\n",
        "print('AUC of model with data preprocessing: {auc}'.format(auc=accuracy_proc))\n",
        "print('AUC of model with data without preprocessing: {auc}'.format(auc=accuracy_unproc))\n",
        "print('Model improvement of preprocessing: {per_improve}%'.format(per_improve = improvement))"
      ],
      "execution_count": 68,
      "outputs": [
        {
          "output_type": "stream",
          "text": [
            "AUC of model with data preprocessing: 0.797273526824978\n",
            "AUC of model with data without preprocessing: 0.6035145052172917\n",
            "Model improvement of preprocessing: 32.105114281872076%\n"
          ],
          "name": "stdout"
        }
      ]
    },
    {
      "cell_type": "markdown",
      "metadata": {
        "id": "dsW7C8lMrAa6",
        "colab_type": "text"
      },
      "source": [
        "### Things to check out:\n",
        "- outlier detection - Tukey IQR\n",
        "- binning low occurences in categorical data\n",
        "- PCA"
      ]
    }
  ]
}